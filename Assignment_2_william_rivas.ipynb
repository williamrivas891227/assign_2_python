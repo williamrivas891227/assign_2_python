{
  "nbformat": 4,
  "nbformat_minor": 0,
  "metadata": {
    "colab": {
      "provenance": []
    },
    "kernelspec": {
      "name": "python3",
      "display_name": "Python 3"
    },
    "language_info": {
      "name": "python"
    }
  },
  "cells": [
    {
      "cell_type": "markdown",
      "source": [
        "William rivas - c0892085"
      ],
      "metadata": {
        "id": "VqstxUaD768_"
      }
    },
    {
      "cell_type": "markdown",
      "source": [
        "q1"
      ],
      "metadata": {
        "id": "qxKaWLNb1Q42"
      }
    },
    {
      "cell_type": "code",
      "execution_count": 3,
      "metadata": {
        "colab": {
          "base_uri": "https://localhost:8080/"
        },
        "id": "6V9mkPOrvH7K",
        "outputId": "5d8d9c90-c3dc-4c2e-c32d-77da895c5ef9"
      },
      "outputs": [
        {
          "output_type": "stream",
          "name": "stdout",
          "text": [
            "Vehicle Name: taxi\n",
            "Maximum Speed: 150 km/h\n",
            "Average Speed: 60 km/h\n"
          ]
        }
      ],
      "source": [
        "class Vehicle:\n",
        "    def __init__(self, name, max_speed, average_speed):\n",
        "        self.name = name\n",
        "        self.max_speed = max_speed\n",
        "        self.average_speed = average_speed\n",
        "\n",
        "    def show(self):\n",
        "        print(f\"Vehicle Name: {self.name}\")\n",
        "        print(f\"Maximum Speed: {self.max_speed} km/h\")\n",
        "        print(f\"Average Speed: {self.average_speed} km/h\")\n",
        "\n",
        "my_vehicle = Vehicle(\"taxi\", 150, 60)\n",
        "\n",
        "my_vehicle.show()\n"
      ]
    },
    {
      "cell_type": "markdown",
      "source": [
        "q2"
      ],
      "metadata": {
        "id": "yUfuPZJp1UJi"
      }
    },
    {
      "cell_type": "code",
      "source": [
        "class Vehicle:\n",
        "    def __init__(self, brand, model, year):\n",
        "        self.brand = brand\n",
        "        self.model = model\n",
        "        self.year = year\n",
        "\n",
        "    def vehicle_info(self):\n",
        "        return f\"{self.year} {self.brand} {self.model}\"\n",
        "\n",
        "class Car(Vehicle):\n",
        "    def __init__(self, brand, model, year):\n",
        "        super().__init__(brand, model, year)\n",
        "\n",
        "    def capacity_car(self, capacity):\n",
        "        return f\"the {self.vehicle_info()} has a seating {capacity} for passengers.\"\n",
        "\n",
        "the_vehicle = Car(\"hyundai\", \"i25\", 2014)\n",
        "print(the_vehicle.capacity_car(4))"
      ],
      "metadata": {
        "id": "UPE-yv3e1Otu"
      },
      "execution_count": null,
      "outputs": []
    },
    {
      "cell_type": "markdown",
      "source": [
        "q3 Multiple inheritance is where a class can inherit attributes and methods from more than one parent class."
      ],
      "metadata": {
        "id": "9Xlw5b-n1bPO"
      }
    },
    {
      "cell_type": "code",
      "source": [
        "class Animal:\n",
        "    def __init__(self, name):\n",
        "        self.name = name\n",
        "\n",
        "    def speak(self):\n",
        "        pass\n",
        "\n",
        "class Mammal(Animal):\n",
        "    def speak(self):\n",
        "        return f\"{self.name} is a mammal and makes a sound.\"\n",
        "\n",
        "class Bird(Animal):\n",
        "    def speak(self):\n",
        "        return f\"{self.name} is the piolin sound\"\n",
        "\n",
        "class Bat(Mammal, Bird):\n",
        "    def __init__(self, name):\n",
        "        super().__init__(name)\n",
        "\n",
        "bird = Bird(\"piu\")\n",
        "print(bird.speak())"
      ],
      "metadata": {
        "id": "TgmbIDlI1dPe"
      },
      "execution_count": null,
      "outputs": []
    },
    {
      "cell_type": "markdown",
      "source": [
        "q4"
      ],
      "metadata": {
        "id": "ilmc0xLN1tx6"
      }
    },
    {
      "cell_type": "code",
      "source": [
        "class Person:\n",
        "    def __init__(self, name, age, gender):\n",
        "        self.__name = name\n",
        "        self.__age = age\n",
        "        self.__gender = gender\n",
        "\n",
        "    def say_hello(self):\n",
        "        print(f\"Hello, i'm {self.__name}\")\n",
        "\n",
        "    def is_adult(self):\n",
        "        return self.__age >= 18\n",
        "\n",
        "    def get_age(self):\n",
        "        return self.__age\n",
        "\n",
        "class Student(Person):\n",
        "    def __init__(self, name, age, gender, student_id, course):\n",
        "        super().__init__(name, age, gender)\n",
        "        self.student_id = student_id\n",
        "        self.course = course\n",
        "\n",
        "    def study(self):\n",
        "        print(f\"the course name is {self.course}\")\n",
        "\n",
        "class Teacher(Person):\n",
        "    def __init__(self, name, age, gender, teacher_id, subject):\n",
        "        super().__init__(name, age, gender)\n",
        "        self.teacher_id = teacher_id\n",
        "        self.subject = subject\n",
        "\n",
        "    def say_hello(self):\n",
        "        print(f\"Hello, I teach {self.subject}\")\n",
        "\n",
        "person1 = Person(\"william\", 30, \"male\")\n",
        "student1 = Student(\"juan\", 23, \"Male\", \"c0808088\", \"data base\")\n",
        "teacher1 = Teacher(\"neus\", 35, \"female\", \"c0908585\", \"python\")\n",
        "\n",
        "person1.say_hello()\n",
        "print(person1.is_adult())\n",
        "print(person1.get_age())\n",
        "\n",
        "student1.say_hello()\n",
        "print(student1.is_adult())\n",
        "student1.study()\n",
        "\n",
        "teacher1.say_hello()\n",
        "print(teacher1.is_adult())\n"
      ],
      "metadata": {
        "colab": {
          "base_uri": "https://localhost:8080/"
        },
        "id": "mMqir94S1v0h",
        "outputId": "e26c2beb-34f3-48bc-f15d-89125af40d55"
      },
      "execution_count": 10,
      "outputs": [
        {
          "output_type": "stream",
          "name": "stdout",
          "text": [
            "Hello, i'm Alice\n",
            "True\n",
            "25\n",
            "Hello, i'm Bob\n",
            "True\n",
            "the course name is Math\n",
            "Hello, I teach Science\n",
            "True\n"
          ]
        }
      ]
    }
  ]
}